{
 "cells": [
  {
   "cell_type": "code",
   "execution_count": 4,
   "metadata": {},
   "outputs": [
    {
     "name": "stdout",
     "output_type": "stream",
     "text": [
      "demanda_1:\n"
     ]
    },
    {
     "data": {
      "text/html": [
       "<div>\n",
       "<style scoped>\n",
       "    .dataframe tbody tr th:only-of-type {\n",
       "        vertical-align: middle;\n",
       "    }\n",
       "\n",
       "    .dataframe tbody tr th {\n",
       "        vertical-align: top;\n",
       "    }\n",
       "\n",
       "    .dataframe thead th {\n",
       "        text-align: right;\n",
       "    }\n",
       "</style>\n",
       "<table border=\"1\" class=\"dataframe\">\n",
       "  <thead>\n",
       "    <tr style=\"text-align: right;\">\n",
       "      <th></th>\n",
       "      <th>y</th>\n",
       "    </tr>\n",
       "  </thead>\n",
       "  <tbody>\n",
       "    <tr>\n",
       "      <th>0</th>\n",
       "      <td>220725.0</td>\n",
       "    </tr>\n",
       "    <tr>\n",
       "      <th>1</th>\n",
       "      <td>142375.0</td>\n",
       "    </tr>\n",
       "    <tr>\n",
       "      <th>2</th>\n",
       "      <td>68375.0</td>\n",
       "    </tr>\n",
       "    <tr>\n",
       "      <th>3</th>\n",
       "      <td>103150.0</td>\n",
       "    </tr>\n",
       "    <tr>\n",
       "      <th>4</th>\n",
       "      <td>94450.0</td>\n",
       "    </tr>\n",
       "  </tbody>\n",
       "</table>\n",
       "</div>"
      ],
      "text/plain": [
       "          y\n",
       "0  220725.0\n",
       "1  142375.0\n",
       "2   68375.0\n",
       "3  103150.0\n",
       "4   94450.0"
      ]
     },
     "metadata": {},
     "output_type": "display_data"
    },
    {
     "name": "stdout",
     "output_type": "stream",
     "text": [
      "demanda_1 shape: (121, 1)\n",
      "demanda_2:\n"
     ]
    },
    {
     "data": {
      "text/html": [
       "<div>\n",
       "<style scoped>\n",
       "    .dataframe tbody tr th:only-of-type {\n",
       "        vertical-align: middle;\n",
       "    }\n",
       "\n",
       "    .dataframe tbody tr th {\n",
       "        vertical-align: top;\n",
       "    }\n",
       "\n",
       "    .dataframe thead th {\n",
       "        text-align: right;\n",
       "    }\n",
       "</style>\n",
       "<table border=\"1\" class=\"dataframe\">\n",
       "  <thead>\n",
       "    <tr style=\"text-align: right;\">\n",
       "      <th></th>\n",
       "      <th>y</th>\n",
       "    </tr>\n",
       "  </thead>\n",
       "  <tbody>\n",
       "    <tr>\n",
       "      <th>0</th>\n",
       "      <td>144350.0</td>\n",
       "    </tr>\n",
       "    <tr>\n",
       "      <th>1</th>\n",
       "      <td>157350.0</td>\n",
       "    </tr>\n",
       "    <tr>\n",
       "      <th>2</th>\n",
       "      <td>137900.0</td>\n",
       "    </tr>\n",
       "    <tr>\n",
       "      <th>3</th>\n",
       "      <td>165575.0</td>\n",
       "    </tr>\n",
       "    <tr>\n",
       "      <th>4</th>\n",
       "      <td>250550.0</td>\n",
       "    </tr>\n",
       "  </tbody>\n",
       "</table>\n",
       "</div>"
      ],
      "text/plain": [
       "          y\n",
       "0  144350.0\n",
       "1  157350.0\n",
       "2  137900.0\n",
       "3  165575.0\n",
       "4  250550.0"
      ]
     },
     "metadata": {},
     "output_type": "display_data"
    },
    {
     "name": "stdout",
     "output_type": "stream",
     "text": [
      "demanda_2 shape: (121, 1)\n",
      "demanda_3:\n"
     ]
    },
    {
     "data": {
      "text/html": [
       "<div>\n",
       "<style scoped>\n",
       "    .dataframe tbody tr th:only-of-type {\n",
       "        vertical-align: middle;\n",
       "    }\n",
       "\n",
       "    .dataframe tbody tr th {\n",
       "        vertical-align: top;\n",
       "    }\n",
       "\n",
       "    .dataframe thead th {\n",
       "        text-align: right;\n",
       "    }\n",
       "</style>\n",
       "<table border=\"1\" class=\"dataframe\">\n",
       "  <thead>\n",
       "    <tr style=\"text-align: right;\">\n",
       "      <th></th>\n",
       "      <th>y</th>\n",
       "    </tr>\n",
       "  </thead>\n",
       "  <tbody>\n",
       "    <tr>\n",
       "      <th>0</th>\n",
       "      <td>186025.0</td>\n",
       "    </tr>\n",
       "    <tr>\n",
       "      <th>1</th>\n",
       "      <td>244025.0</td>\n",
       "    </tr>\n",
       "    <tr>\n",
       "      <th>2</th>\n",
       "      <td>221975.0</td>\n",
       "    </tr>\n",
       "    <tr>\n",
       "      <th>3</th>\n",
       "      <td>134850.0</td>\n",
       "    </tr>\n",
       "    <tr>\n",
       "      <th>4</th>\n",
       "      <td>133575.0</td>\n",
       "    </tr>\n",
       "  </tbody>\n",
       "</table>\n",
       "</div>"
      ],
      "text/plain": [
       "          y\n",
       "0  186025.0\n",
       "1  244025.0\n",
       "2  221975.0\n",
       "3  134850.0\n",
       "4  133575.0"
      ]
     },
     "metadata": {},
     "output_type": "display_data"
    },
    {
     "name": "stdout",
     "output_type": "stream",
     "text": [
      "demanda_3 shape: (120, 1)\n",
      "demanda_final:\n"
     ]
    },
    {
     "data": {
      "text/html": [
       "<div>\n",
       "<style scoped>\n",
       "    .dataframe tbody tr th:only-of-type {\n",
       "        vertical-align: middle;\n",
       "    }\n",
       "\n",
       "    .dataframe tbody tr th {\n",
       "        vertical-align: top;\n",
       "    }\n",
       "\n",
       "    .dataframe thead th {\n",
       "        text-align: right;\n",
       "    }\n",
       "</style>\n",
       "<table border=\"1\" class=\"dataframe\">\n",
       "  <thead>\n",
       "    <tr style=\"text-align: right;\">\n",
       "      <th></th>\n",
       "      <th>y</th>\n",
       "    </tr>\n",
       "  </thead>\n",
       "  <tbody>\n",
       "    <tr>\n",
       "      <th>0</th>\n",
       "      <td>220725.0</td>\n",
       "    </tr>\n",
       "    <tr>\n",
       "      <th>1</th>\n",
       "      <td>142375.0</td>\n",
       "    </tr>\n",
       "    <tr>\n",
       "      <th>2</th>\n",
       "      <td>68375.0</td>\n",
       "    </tr>\n",
       "    <tr>\n",
       "      <th>3</th>\n",
       "      <td>103150.0</td>\n",
       "    </tr>\n",
       "    <tr>\n",
       "      <th>4</th>\n",
       "      <td>94450.0</td>\n",
       "    </tr>\n",
       "  </tbody>\n",
       "</table>\n",
       "</div>"
      ],
      "text/plain": [
       "          y\n",
       "0  220725.0\n",
       "1  142375.0\n",
       "2   68375.0\n",
       "3  103150.0\n",
       "4   94450.0"
      ]
     },
     "metadata": {},
     "output_type": "display_data"
    },
    {
     "name": "stdout",
     "output_type": "stream",
     "text": [
      "demanda_final shape: (364, 1)\n"
     ]
    }
   ],
   "source": [
    "import pandas as pd\n",
    "\n",
    "# Read the CSV files into separate dataframes\n",
    "demanda_1 = pd.read_csv('../results/Bakery sales final with forecast 1.csv')\n",
    "demanda_2 = pd.read_csv('../results/Bakery sales final with forecast 2.csv')\n",
    "demanda_3 = pd.read_csv('../results/Bakery sales final with forecast 3.csv')\n",
    "\n",
    "demanda_final = pd.read_csv('../results/Bakery sales final with forecast.csv')\n",
    "\n",
    "# Display the first few rows of each dataframe\n",
    "print(\"demanda_1:\")\n",
    "display(demanda_1.head())\n",
    "print(f\"demanda_1 shape: {demanda_1.shape}\")\n",
    "\n",
    "print(\"demanda_2:\")\n",
    "display(demanda_2.head())\n",
    "print(f\"demanda_2 shape: {demanda_2.shape}\")\n",
    "\n",
    "print(\"demanda_3:\")\n",
    "display(demanda_3.head())\n",
    "print(f\"demanda_3 shape: {demanda_3.shape}\")\n",
    "\n",
    "print(\"demanda_final:\")\n",
    "display(demanda_final.head())\n",
    "print(f\"demanda_final shape: {demanda_final.shape}\")\n"
   ]
  },
  {
   "cell_type": "markdown",
   "metadata": {},
   "source": [
    "# Fit demanda anual"
   ]
  },
  {
   "cell_type": "code",
   "execution_count": 5,
   "metadata": {},
   "outputs": [
    {
     "name": "stderr",
     "output_type": "stream",
     "text": [
      "SKIPPED _fit distribution (taking more than 30 seconds)\n",
      "SKIPPED irwinhall distribution (taking more than 30 seconds)\n",
      "SKIPPED kstwo distribution (taking more than 30 seconds)\n",
      "SKIPPED multivariate_normal distribution (taking more than 30 seconds)\n",
      "SKIPPED rv_continuous distribution (taking more than 30 seconds)\n",
      "SKIPPED rv_histogram distribution (taking more than 30 seconds)\n",
      "SKIPPED vonmises_fisher distribution (taking more than 30 seconds)\n",
      "/home/ez/projects/python/Operativa/io-abc-xyz/.venv/lib/python3.10/site-packages/scipy/integrate/_quadpack_py.py:1260: IntegrationWarning: The maximum number of subdivisions (50) has been achieved.\n",
      "  If increasing the limit yields no improvement it is advised to analyze \n",
      "  the integrand in order to determine the difficulties.  If the position of a \n",
      "  local difficulty can be determined (singularity, discontinuity) one will \n",
      "  probably gain from splitting up the interval and calling the integrator \n",
      "  on the subranges.  Perhaps a special-purpose integrator should be used.\n",
      "  quad_r = quad(f, low, high, args=args, full_output=self.full_output,\n",
      "SKIPPED levy_stable distribution (taking more than 30 seconds)\n",
      "SKIPPED studentized_range distribution (taking more than 30 seconds)\n"
     ]
    },
    {
     "data": {
      "text/html": [
       "<div>\n",
       "<style scoped>\n",
       "    .dataframe tbody tr th:only-of-type {\n",
       "        vertical-align: middle;\n",
       "    }\n",
       "\n",
       "    .dataframe tbody tr th {\n",
       "        vertical-align: top;\n",
       "    }\n",
       "\n",
       "    .dataframe thead th {\n",
       "        text-align: right;\n",
       "    }\n",
       "</style>\n",
       "<table border=\"1\" class=\"dataframe\">\n",
       "  <thead>\n",
       "    <tr style=\"text-align: right;\">\n",
       "      <th></th>\n",
       "      <th>sumsquare_error</th>\n",
       "      <th>aic</th>\n",
       "      <th>bic</th>\n",
       "      <th>kl_div</th>\n",
       "      <th>ks_statistic</th>\n",
       "      <th>ks_pvalue</th>\n",
       "    </tr>\n",
       "  </thead>\n",
       "  <tbody>\n",
       "    <tr>\n",
       "      <th>burr</th>\n",
       "      <td>1.710770e-10</td>\n",
       "      <td>2788.143772</td>\n",
       "      <td>2803.732388</td>\n",
       "      <td>inf</td>\n",
       "      <td>0.039769</td>\n",
       "      <td>0.598153</td>\n",
       "    </tr>\n",
       "    <tr>\n",
       "      <th>fisk</th>\n",
       "      <td>1.726873e-10</td>\n",
       "      <td>2789.364578</td>\n",
       "      <td>2801.056040</td>\n",
       "      <td>inf</td>\n",
       "      <td>0.042502</td>\n",
       "      <td>0.512818</td>\n",
       "    </tr>\n",
       "    <tr>\n",
       "      <th>nct</th>\n",
       "      <td>1.741503e-10</td>\n",
       "      <td>2791.412516</td>\n",
       "      <td>2807.001132</td>\n",
       "      <td>inf</td>\n",
       "      <td>0.041223</td>\n",
       "      <td>0.552216</td>\n",
       "    </tr>\n",
       "    <tr>\n",
       "      <th>invgamma</th>\n",
       "      <td>1.742103e-10</td>\n",
       "      <td>2787.162083</td>\n",
       "      <td>2798.853545</td>\n",
       "      <td>inf</td>\n",
       "      <td>0.038610</td>\n",
       "      <td>0.635327</td>\n",
       "    </tr>\n",
       "    <tr>\n",
       "      <th>jf_skew_t</th>\n",
       "      <td>1.746190e-10</td>\n",
       "      <td>2791.334863</td>\n",
       "      <td>2806.923479</td>\n",
       "      <td>inf</td>\n",
       "      <td>0.040948</td>\n",
       "      <td>0.560825</td>\n",
       "    </tr>\n",
       "  </tbody>\n",
       "</table>\n",
       "</div>"
      ],
      "text/plain": [
       "           sumsquare_error          aic          bic  kl_div  ks_statistic  \\\n",
       "burr          1.710770e-10  2788.143772  2803.732388     inf      0.039769   \n",
       "fisk          1.726873e-10  2789.364578  2801.056040     inf      0.042502   \n",
       "nct           1.741503e-10  2791.412516  2807.001132     inf      0.041223   \n",
       "invgamma      1.742103e-10  2787.162083  2798.853545     inf      0.038610   \n",
       "jf_skew_t     1.746190e-10  2791.334863  2806.923479     inf      0.040948   \n",
       "\n",
       "           ks_pvalue  \n",
       "burr        0.598153  \n",
       "fisk        0.512818  \n",
       "nct         0.552216  \n",
       "invgamma    0.635327  \n",
       "jf_skew_t   0.560825  "
      ]
     },
     "execution_count": 5,
     "metadata": {},
     "output_type": "execute_result"
    },
    {
     "data": {
      "image/png": "[encoded data removed]",
      "text/plain": [
       "<Figure size 640x480 with 1 Axes>"
      ]
     },
     "metadata": {},
     "output_type": "display_data"
    },
    {
     "name": "stderr",
     "output_type": "stream",
     "text": [
      "/home/ez/projects/python/Operativa/io-abc-xyz/.venv/lib/python3.10/site-packages/scipy/integrate/_quadpack_py.py:1260: IntegrationWarning: The integral is probably divergent, or slowly convergent.\n",
      "  quad_r = quad(f, low, high, args=args, full_output=self.full_output,\n",
      "/home/ez/projects/python/Operativa/io-abc-xyz/.venv/lib/python3.10/site-packages/scipy/integrate/_quadpack_py.py:1260: IntegrationWarning: The maximum number of subdivisions (50) has been achieved.\n",
      "  If increasing the limit yields no improvement it is advised to analyze \n",
      "  the integrand in order to determine the difficulties.  If the position of a \n",
      "  local difficulty can be determined (singularity, discontinuity) one will \n",
      "  probably gain from splitting up the interval and calling the integrator \n",
      "  on the subranges.  Perhaps a special-purpose integrator should be used.\n",
      "  quad_r = quad(f, low, high, args=args, full_output=self.full_output,\n",
      "/home/ez/projects/python/Operativa/io-abc-xyz/.venv/lib/python3.10/site-packages/scipy/integrate/_quadpack_py.py:1260: IntegrationWarning: The occurrence of roundoff error is detected, which prevents \n",
      "  the requested tolerance from being achieved.  The error may be \n",
      "  underestimated.\n",
      "  quad_r = quad(f, low, high, args=args, full_output=self.full_output,\n"
     ]
    }
   ],
   "source": [
    "from fitter import Fitter\n",
    "f = Fitter(demanda_final)\n",
    "f.fit()\n",
    "# may take some time since by default, all distributions are tried\n",
    "# but you call manually provide a smaller set of distributions\n",
    "f.summary()"
   ]
  },
  {
   "cell_type": "markdown",
   "metadata": {},
   "source": [
    "# Fit cuatrimestres"
   ]
  },
  {
   "cell_type": "code",
   "execution_count": 6,
   "metadata": {},
   "outputs": [
    {
     "name": "stderr",
     "output_type": "stream",
     "text": [
      "/home/ez/projects/python/Operativa/io-abc-xyz/.venv/lib/python3.10/site-packages/scipy/integrate/_quadpack_py.py:1260: IntegrationWarning: The maximum number of subdivisions (50) has been achieved.\n",
      "  If increasing the limit yields no improvement it is advised to analyze \n",
      "  the integrand in order to determine the difficulties.  If the position of a \n",
      "  local difficulty can be determined (singularity, discontinuity) one will \n",
      "  probably gain from splitting up the interval and calling the integrator \n",
      "  on the subranges.  Perhaps a special-purpose integrator should be used.\n",
      "  quad_r = quad(f, low, high, args=args, full_output=self.full_output,\n",
      "/home/ez/projects/python/Operativa/io-abc-xyz/.venv/lib/python3.10/site-packages/scipy/integrate/_quadpack_py.py:1260: IntegrationWarning: The occurrence of roundoff error is detected, which prevents \n",
      "  the requested tolerance from being achieved.  The error may be \n",
      "  underestimated.\n",
      "  quad_r = quad(f, low, high, args=args, full_output=self.full_output,\n",
      "SKIPPED _fit distribution (taking more than 30 seconds)\n"
     ]
    }
   ],
   "source": [
    "from fitter import Fitter\n",
    "f = Fitter(demanda_1)\n",
    "f.fit()\n",
    "f.summary()"
   ]
  },
  {
   "cell_type": "code",
   "execution_count": null,
   "metadata": {},
   "outputs": [],
   "source": [
    "from fitter import Fitter\n",
    "f = Fitter(demanda_2)\n",
    "f.fit()\n",
    "f.summary()"
   ]
  },
  {
   "cell_type": "code",
   "execution_count": null,
   "metadata": {},
   "outputs": [],
   "source": [
    "from fitter import Fitter\n",
    "f = Fitter(demanda_3)\n",
    "f.fit()\n",
    "f.summary()"
   ]
  }
 ],
 "metadata": {
  "kernelspec": {
   "display_name": ".venv",
   "language": "python",
   "name": "python3"
  },
  "language_info": {
   "codemirror_mode": {
    "name": "ipython",
    "version": 3
   },
   "file_extension": ".py",
   "mimetype": "text/x-python",
   "name": "python",
   "nbconvert_exporter": "python",
   "pygments_lexer": "ipython3",
   "version": "3.10.12"
  }
 },
 "nbformat": 4,
 "nbformat_minor": 2
}
