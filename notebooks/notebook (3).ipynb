{
 "cells": [
  {
   "cell_type": "code",
   "execution_count": 22,
   "metadata": {},
   "outputs": [
    {
     "name": "stdout",
     "output_type": "stream",
     "text": [
      "   Unnamed: 0        date   time  ticket_number               article  \\\n",
      "0           0  2021-01-02  08:38       150040.0              BAGUETTE   \n",
      "1           1  2021-01-02  08:38       150040.0      PAIN AU CHOCOLAT   \n",
      "2           4  2021-01-02  09:14       150041.0      PAIN AU CHOCOLAT   \n",
      "3           5  2021-01-02  09:14       150041.0                  PAIN   \n",
      "4           8  2021-01-02  09:25       150042.0  TRADITIONAL BAGUETTE   \n",
      "\n",
      "   Quantity unit_price  \n",
      "0       1.0     0,90 €  \n",
      "1       3.0     1,20 €  \n",
      "2       2.0     1,20 €  \n",
      "3       1.0     1,15 €  \n",
      "4       5.0     1,20 €  \n"
     ]
    }
   ],
   "source": [
    "import pandas as pd\n",
    "\n",
    "# Cargar el archivo CSV\n",
    "df = pd.read_csv(\"../data/Bakery sales.csv\")\n",
    "\n",
    "# Borrar todas las filas donde la columna 'article' no tenga más de 2 caracteres\n",
    "df = df[df['article'].str.len() > 2]\n",
    "\n",
    "# Mostrar las primeras filas del DataFrame resultante\n",
    "print(df.head())"
   ]
  },
  {
   "cell_type": "code",
   "execution_count": 23,
   "metadata": {},
   "outputs": [
    {
     "name": "stdout",
     "output_type": "stream",
     "text": [
      "        Unnamed: 0        date   time  ticket_number           article  \\\n",
      "50552       110375  2021-06-12  09:58       179931.0       CAFE OU EAU   \n",
      "74999       163377  2021-07-31  12:32       194199.0        GD NANTAIS   \n",
      "25378        55521  2021-04-04  12:27       165104.0          ROYAL 6P   \n",
      "199061      434997  2022-07-23  10:57       268189.0  PLAQUE TARTE 25P   \n",
      "223128      487139  2022-08-28  08:47       282223.0  FORMULE SANDWICH   \n",
      "\n",
      "        Quantity unit_price  DemandaValorizada  \n",
      "50552      200.0     1,00 €              200.0  \n",
      "74999       11.0    11,00 €              121.0  \n",
      "25378        4.0    18,00 €               72.0  \n",
      "199061       2.0    35,00 €               70.0  \n",
      "223128      10.0     7,00 €               70.0  \n",
      "<class 'pandas.core.frame.DataFrame'>\n",
      "Index: 234000 entries, 50552 to 50553\n",
      "Data columns (total 8 columns):\n",
      " #   Column             Non-Null Count   Dtype  \n",
      "---  ------             --------------   -----  \n",
      " 0   Unnamed: 0         234000 non-null  int64  \n",
      " 1   date               234000 non-null  object \n",
      " 2   time               234000 non-null  object \n",
      " 3   ticket_number      234000 non-null  float64\n",
      " 4   article            234000 non-null  object \n",
      " 5   Quantity           234000 non-null  float64\n",
      " 6   unit_price         234000 non-null  object \n",
      " 7   DemandaValorizada  234000 non-null  float64\n",
      "dtypes: float64(3), int64(1), object(4)\n",
      "memory usage: 16.1+ MB\n",
      "None\n"
     ]
    }
   ],
   "source": [
    "# Calcular la demanda valorizada = Quantity * unit_price\n",
    "\"\"\"\n",
    "   Quantity unit_price  \n",
    "0       1.0     0,90 €  \n",
    "1       3.0     1,20 €  \n",
    "2       2.0     1,20 €  \n",
    "3       1.0     1,15 €  \n",
    "4       5.0     1,20 €  \n",
    "\n",
    "\"\"\"\n",
    "df[\"DemandaValorizada\"] = df[\"Quantity\"] * df[\"unit_price\"].str.replace(\" €\", \"\").str.replace(\",\", \".\").astype(float)\n",
    "\n",
    "# ordenar el DataFrame por la nueva columna, de forma descendente\n",
    "df = df.sort_values(by=\"DemandaValorizada\", ascending=False)\n",
    "\n",
    "# Mostrar las primeras filas del DataFrame con la nueva columna\n",
    "print(df.head())\n",
    "\n",
    "print(df.info())"
   ]
  },
  {
   "cell_type": "code",
   "execution_count": 24,
   "metadata": {},
   "outputs": [
    {
     "name": "stdout",
     "output_type": "stream",
     "text": [
      "                  article  DemandaValorizada\n",
      "139  TRADITIONAL BAGUETTE          144756.05\n",
      "56       FORMULE SANDWICH           34710.50\n",
      "31              CROISSANT           33579.50\n",
      "84       PAIN AU CHOCOLAT           31100.45\n",
      "6                 BANETTE           24555.15\n"
     ]
    }
   ],
   "source": [
    "# Agrupar los prudctos por artículo y sumar la demanda valorizada\n",
    "df_agrupado = df.groupby(\"article\")[\"DemandaValorizada\"].sum().reset_index()\n",
    "df_agrupado = df_agrupado.sort_values(by=\"DemandaValorizada\", ascending=False)\n",
    "\n",
    "print(df_agrupado.head())\n"
   ]
  },
  {
   "cell_type": "code",
   "execution_count": 25,
   "metadata": {},
   "outputs": [
    {
     "name": "stdout",
     "output_type": "stream",
     "text": [
      "                  article  DemandaValorizada  DemandaValorizadaPorcentual\n",
      "139  TRADITIONAL BAGUETTE          144756.05                    25.912185\n",
      "56       FORMULE SANDWICH           34710.50                     6.213384\n",
      "31              CROISSANT           33579.50                     6.010928\n",
      "84       PAIN AU CHOCOLAT           31100.45                     5.567164\n",
      "6                 BANETTE           24555.15                     4.395516\n"
     ]
    }
   ],
   "source": [
    "# Calcular la demanda valorizada porcentual\n",
    "total = df_agrupado[\"DemandaValorizada\"].sum()\n",
    "df_agrupado[\"DemandaValorizadaPorcentual\"] = df_agrupado[\"DemandaValorizada\"] / total * 100\n",
    "\n",
    "print(df_agrupado.head())"
   ]
  },
  {
   "cell_type": "code",
   "execution_count": 26,
   "metadata": {},
   "outputs": [
    {
     "name": "stdout",
     "output_type": "stream",
     "text": [
      "                  article  DemandaValorizada  DemandaValorizadaPorcentual  \\\n",
      "139  TRADITIONAL BAGUETTE          144756.05                    25.912185   \n",
      "56       FORMULE SANDWICH           34710.50                     6.213384   \n",
      "31              CROISSANT           33579.50                     6.010928   \n",
      "84       PAIN AU CHOCOLAT           31100.45                     5.567164   \n",
      "6                 BANETTE           24555.15                     4.395516   \n",
      "\n",
      "     DemandaValorizadaPorcentualAcumulada  \n",
      "139                             25.912185  \n",
      "56                              32.125569  \n",
      "31                              38.136497  \n",
      "84                              43.703660  \n",
      "6                               48.099177  \n"
     ]
    }
   ],
   "source": [
    "# Calcular la demanda valorizada porcentual acumulada respecto a la demanda valorizada\n",
    "df_agrupado[\"DemandaValorizadaPorcentualAcumulada\"] = df_agrupado[\"DemandaValorizadaPorcentual\"].cumsum()\n",
    "\n",
    "# Mostrar las primeras filas del DataFrame con la nueva columna\n",
    "print(df_agrupado.head())"
   ]
  },
  {
   "cell_type": "code",
   "execution_count": 27,
   "metadata": {},
   "outputs": [
    {
     "name": "stdout",
     "output_type": "stream",
     "text": [
      "                  article  DemandaValorizada  DemandaValorizadaPorcentual  \\\n",
      "139  TRADITIONAL BAGUETTE          144756.05                    25.912185   \n",
      "56       FORMULE SANDWICH           34710.50                     6.213384   \n",
      "31              CROISSANT           33579.50                     6.010928   \n",
      "84       PAIN AU CHOCOLAT           31100.45                     5.567164   \n",
      "6                 BANETTE           24555.15                     4.395516   \n",
      "\n",
      "     DemandaValorizadaPorcentualAcumulada Tipo  \n",
      "139                             25.912185    A  \n",
      "56                              32.125569    A  \n",
      "31                              38.136497    A  \n",
      "84                              43.703660    A  \n",
      "6                               48.099177    A  \n"
     ]
    }
   ],
   "source": [
    "# Asignar el tipo A, B, C según la demanda valorizada porcentual acumulada\n",
    "def asignar_tipo(valor):\n",
    "    if valor <= 80:\n",
    "        return 'A'\n",
    "    elif valor <= 95:\n",
    "        return 'B'\n",
    "    else:\n",
    "        return 'C'\n",
    "\n",
    "df_agrupado[\"Tipo\"] = df_agrupado[\"DemandaValorizadaPorcentualAcumulada\"].apply(asignar_tipo)\n",
    "\n",
    "# Mostrar las primeras filas del DataFrame con la nueva columna\n",
    "print(df_agrupado.head())\n",
    "\n",
    "# Guardar el DataFrame en un archivo CSV\n",
    "df_agrupado.to_csv(\"../data/Bakery sales processed.csv\", index=False)"
   ]
  },
  {
   "cell_type": "code",
   "execution_count": 28,
   "metadata": {},
   "outputs": [],
   "source": [
    "# Analisis XYZ\n",
    "# Calcular la columna \"month\"\n",
    "df[\"month\"] = df[\"date\"].str.split(\"-\").str[1]\n",
    "\n",
    "# Para cada articulo calcular la demanda total (no valorizada) por mes\n",
    "df_agrupado_mes = df.groupby([\"article\", \"month\"])[\"Quantity\"].sum().reset_index()\n",
    "\n",
    "print(df_agrupado_mes.head())\n",
    "\n",
    "# guardar\n",
    "df_agrupado_mes.to_csv(\"../data/Bakery sales processed by month.csv\", index=False)\n",
    "\n"
   ]
  },
  {
   "cell_type": "code",
   "execution_count": 29,
   "metadata": {},
   "outputs": [],
   "source": [
    "# Rellenar los meses que faltan a cada articulo con 0\n",
    "df_agrupado_mes = df_agrupado_mes.set_index([\"article\", \"month\"]).unstack().fillna(0).stack().reset_index()\n",
    "\n",
    "print(df_agrupado_mes.head())\n",
    "\n",
    "# guardar\n",
    "df_agrupado_mes.to_csv(\"../data/Bakery sales processed by month filled.csv\", index=False)"
   ]
  },
  {
   "cell_type": "code",
   "execution_count": 31,
   "metadata": {},
   "outputs": [],
   "source": [
    "# Siguiendo con el analisis XYZ, en un nuevo datafreme pone los meses como columnas y los articulos como filas\n",
    "df_pivot = df_agrupado_mes.pivot(index=\"article\", columns=\"month\", values=\"Quantity\").reset_index()\n",
    "\n",
    "print(df_pivot.head())"
   ]
  },
  {
   "cell_type": "code",
   "execution_count": 34,
   "metadata": {},
   "outputs": [],
   "source": [
    "# Calcula el promedio de la demanda por articulo y la desviacion estandar\n",
    "df_pivot[\"mean\"] = df_pivot.iloc[:, 1:].mean(axis=1)\n",
    "\n",
    "df_pivot[\"std\"] = df_pivot.iloc[:, 1:].std(axis=1)\n",
    "\n",
    "print(df_pivot.head())\n",
    "\n",
    "# guardar\n",
    "df_pivot.to_csv(\"../data/Bakery sales std.csv\", index=False)"
   ]
  },
  {
   "cell_type": "code",
   "execution_count": 36,
   "metadata": {},
   "outputs": [],
   "source": [
    "# Asignar XYZ =SI(H3<=10%;\"X\";SI(H3<=25%;\"Y\";SI(H3>=25%;\"Z\")))\n",
    "def asignar_xyz(valor):\n",
    "    if valor <= 10:\n",
    "        return 'X'\n",
    "    elif valor <= 25:\n",
    "        return 'Y'\n",
    "    else:\n",
    "        return 'Z'\n",
    "    \n",
    "df_pivot[\"XYZ\"] = df_pivot[\"std\"].apply(asignar_xyz)\n",
    "\n",
    "print(df_pivot.head())\n",
    "\n",
    "# guardar\n",
    "df_pivot.to_csv(\"../data/Bakery sales XYZ.csv\", index=False)"
   ]
  },
  {
   "cell_type": "code",
   "execution_count": 38,
   "metadata": {},
   "outputs": [],
   "source": [
    "# contar cuantos articulos hay de cada tipo\n",
    "df_xyz = df_pivot[\"XYZ\"].value_counts().reset_index()\n",
    "\n",
    "print(df_xyz)"
   ]
  }
 ],
 "metadata": {
  "kernelspec": {
   "display_name": "Python 3",
   "language": "python",
   "name": "python3"
  },
  "language_info": {
   "codemirror_mode": {
    "name": "ipython",
    "version": 3
   },
   "file_extension": ".py",
   "mimetype": "text/x-python",
   "name": "python",
   "nbconvert_exporter": "python",
   "pygments_lexer": "ipython3",
   "version": "3.12.1"
  }
 },
 "nbformat": 4,
 "nbformat_minor": 2
}
