{
 "cells": [
  {
   "cell_type": "code",
   "execution_count": 1,
   "metadata": {},
   "outputs": [
    {
     "name": "stdout",
     "output_type": "stream",
     "text": [
      "   Unnamed: 0        date   time  ticket_number               article  \\\n",
      "0           0  2021-01-02  08:38       150040.0              BAGUETTE   \n",
      "1           1  2021-01-02  08:38       150040.0      PAIN AU CHOCOLAT   \n",
      "2           4  2021-01-02  09:14       150041.0      PAIN AU CHOCOLAT   \n",
      "3           5  2021-01-02  09:14       150041.0                  PAIN   \n",
      "4           8  2021-01-02  09:25       150042.0  TRADITIONAL BAGUETTE   \n",
      "\n",
      "   Quantity unit_price  \n",
      "0       1.0     0,90 €  \n",
      "1       3.0     1,20 €  \n",
      "2       2.0     1,20 €  \n",
      "3       1.0     1,15 €  \n",
      "4       5.0     1,20 €  \n"
     ]
    }
   ],
   "source": [
    "import pandas as pd\n",
    "\n",
    "# Cargar el archivo CSV\n",
    "df = pd.read_csv(\"../data/Bakery sales.csv\")\n",
    "\n",
    "# Borrar todas las filas donde la columna 'article' no tenga más de 2 caracteres\n",
    "df = df[df['article'].str.len() > 2]\n",
    "\n",
    "# Mostrar las primeras filas del DataFrame resultante\n",
    "print(df.head())"
   ]
  },
  {
   "cell_type": "code",
   "execution_count": 2,
   "metadata": {},
   "outputs": [
    {
     "name": "stdout",
     "output_type": "stream",
     "text": [
      "        Unnamed: 0        date   time  ticket_number           article  \\\n",
      "50552       110375  2021-06-12  09:58       179931.0       CAFE OU EAU   \n",
      "74999       163377  2021-07-31  12:32       194199.0        GD NANTAIS   \n",
      "25378        55521  2021-04-04  12:27       165104.0          ROYAL 6P   \n",
      "199061      434997  2022-07-23  10:57       268189.0  PLAQUE TARTE 25P   \n",
      "223128      487139  2022-08-28  08:47       282223.0  FORMULE SANDWICH   \n",
      "\n",
      "        Quantity unit_price  DemandaValorizada  \n",
      "50552      200.0     1,00 €              200.0  \n",
      "74999       11.0    11,00 €              121.0  \n",
      "25378        4.0    18,00 €               72.0  \n",
      "199061       2.0    35,00 €               70.0  \n",
      "223128      10.0     7,00 €               70.0  \n",
      "<class 'pandas.core.frame.DataFrame'>\n",
      "Index: 234000 entries, 50552 to 50553\n",
      "Data columns (total 8 columns):\n",
      " #   Column             Non-Null Count   Dtype  \n",
      "---  ------             --------------   -----  \n",
      " 0   Unnamed: 0         234000 non-null  int64  \n",
      " 1   date               234000 non-null  object \n",
      " 2   time               234000 non-null  object \n",
      " 3   ticket_number      234000 non-null  float64\n",
      " 4   article            234000 non-null  object \n",
      " 5   Quantity           234000 non-null  float64\n",
      " 6   unit_price         234000 non-null  object \n",
      " 7   DemandaValorizada  234000 non-null  float64\n",
      "dtypes: float64(3), int64(1), object(4)\n",
      "memory usage: 16.1+ MB\n",
      "None\n"
     ]
    }
   ],
   "source": [
    "# Calcular la demanda valorizada = Quantity * unit_price\n",
    "\"\"\"\n",
    "   Quantity unit_price  \n",
    "0       1.0     0,90 €  \n",
    "1       3.0     1,20 €  \n",
    "2       2.0     1,20 €  \n",
    "3       1.0     1,15 €  \n",
    "4       5.0     1,20 €  \n",
    "\n",
    "\"\"\"\n",
    "df[\"DemandaValorizada\"] = df[\"Quantity\"] * df[\"unit_price\"].str.replace(\" €\", \"\").str.replace(\",\", \".\").astype(float)\n",
    "\n",
    "# ordenar el DataFrame por la nueva columna, de forma descendente\n",
    "df = df.sort_values(by=\"DemandaValorizada\", ascending=False)\n",
    "\n",
    "# Mostrar las primeras filas del DataFrame con la nueva columna\n",
    "print(df.head())\n",
    "\n",
    "print(df.info())"
   ]
  },
  {
   "cell_type": "code",
   "execution_count": 3,
   "metadata": {},
   "outputs": [
    {
     "name": "stdout",
     "output_type": "stream",
     "text": [
      "                  article  DemandaValorizada\n",
      "139  TRADITIONAL BAGUETTE          144756.05\n",
      "56       FORMULE SANDWICH           34710.50\n",
      "31              CROISSANT           33579.50\n",
      "84       PAIN AU CHOCOLAT           31100.45\n",
      "6                 BANETTE           24555.15\n"
     ]
    }
   ],
   "source": [
    "# Agrupar los prudctos por artículo y sumar la demanda valorizada\n",
    "df_agrupado = df.groupby(\"article\")[\"DemandaValorizada\"].sum().reset_index()\n",
    "df_agrupado = df_agrupado.sort_values(by=\"DemandaValorizada\", ascending=False)\n",
    "\n",
    "print(df_agrupado.head())\n"
   ]
  },
  {
   "cell_type": "code",
   "execution_count": 4,
   "metadata": {},
   "outputs": [
    {
     "name": "stdout",
     "output_type": "stream",
     "text": [
      "                  article  DemandaValorizada  DemandaValorizadaPorcentual\n",
      "139  TRADITIONAL BAGUETTE          144756.05                    25.912185\n",
      "56       FORMULE SANDWICH           34710.50                     6.213384\n",
      "31              CROISSANT           33579.50                     6.010928\n",
      "84       PAIN AU CHOCOLAT           31100.45                     5.567164\n",
      "6                 BANETTE           24555.15                     4.395516\n"
     ]
    }
   ],
   "source": [
    "# Calcular la demanda valorizada porcentual\n",
    "total = df_agrupado[\"DemandaValorizada\"].sum()\n",
    "df_agrupado[\"DemandaValorizadaPorcentual\"] = df_agrupado[\"DemandaValorizada\"] / total * 100\n",
    "\n",
    "print(df_agrupado.head())"
   ]
  },
  {
   "cell_type": "code",
   "execution_count": 5,
   "metadata": {},
   "outputs": [
    {
     "name": "stdout",
     "output_type": "stream",
     "text": [
      "                  article  DemandaValorizada  DemandaValorizadaPorcentual  \\\n",
      "139  TRADITIONAL BAGUETTE          144756.05                    25.912185   \n",
      "56       FORMULE SANDWICH           34710.50                     6.213384   \n",
      "31              CROISSANT           33579.50                     6.010928   \n",
      "84       PAIN AU CHOCOLAT           31100.45                     5.567164   \n",
      "6                 BANETTE           24555.15                     4.395516   \n",
      "\n",
      "     DemandaValorizadaPorcentualAcumulada  \n",
      "139                             25.912185  \n",
      "56                              32.125569  \n",
      "31                              38.136497  \n",
      "84                              43.703660  \n",
      "6                               48.099177  \n"
     ]
    }
   ],
   "source": [
    "# Calcular la demanda valorizada porcentual acumulada respecto a la demanda valorizada\n",
    "df_agrupado[\"DemandaValorizadaPorcentualAcumulada\"] = df_agrupado[\"DemandaValorizadaPorcentual\"].cumsum()\n",
    "\n",
    "# Mostrar las primeras filas del DataFrame con la nueva columna\n",
    "print(df_agrupado.head())"
   ]
  },
  {
   "cell_type": "code",
   "execution_count": 6,
   "metadata": {},
   "outputs": [
    {
     "name": "stdout",
     "output_type": "stream",
     "text": [
      "                  article  DemandaValorizada  DemandaValorizadaPorcentual  \\\n",
      "139  TRADITIONAL BAGUETTE          144756.05                    25.912185   \n",
      "56       FORMULE SANDWICH           34710.50                     6.213384   \n",
      "31              CROISSANT           33579.50                     6.010928   \n",
      "84       PAIN AU CHOCOLAT           31100.45                     5.567164   \n",
      "6                 BANETTE           24555.15                     4.395516   \n",
      "\n",
      "     DemandaValorizadaPorcentualAcumulada Tipo  \n",
      "139                             25.912185    A  \n",
      "56                              32.125569    A  \n",
      "31                              38.136497    A  \n",
      "84                              43.703660    A  \n",
      "6                               48.099177    A  \n"
     ]
    }
   ],
   "source": [
    "# Asignar el tipo A, B, C según la demanda valorizada porcentual acumulada\n",
    "def asignar_tipo(valor):\n",
    "    if valor <= 80:\n",
    "        return 'A'\n",
    "    elif valor <= 95:\n",
    "        return 'B'\n",
    "    else:\n",
    "        return 'C'\n",
    "\n",
    "df_agrupado[\"Tipo\"] = df_agrupado[\"DemandaValorizadaPorcentualAcumulada\"].apply(asignar_tipo)\n",
    "\n",
    "# Mostrar las primeras filas del DataFrame con la nueva columna\n",
    "print(df_agrupado.head())\n",
    "\n",
    "# Guardar el DataFrame en un archivo CSV\n",
    "df_agrupado.to_csv(\"../data/Bakery sales processed.csv\", index=False)"
   ]
  },
  {
   "cell_type": "code",
   "execution_count": 7,
   "metadata": {},
   "outputs": [
    {
     "name": "stdout",
     "output_type": "stream",
     "text": [
      "       article month  Quantity\n",
      "0   12 MACARON    07      14.0\n",
      "1   12 MACARON    08      47.0\n",
      "2   12 MACARON    09       9.0\n",
      "3   ARMORICAIN    07       3.0\n",
      "4  ARTICLE 295    11       1.0\n"
     ]
    }
   ],
   "source": [
    "# Analisis XYZ\n",
    "# Calcular la columna \"month\"\n",
    "df[\"month\"] = df[\"date\"].str.split(\"-\").str[1]\n",
    "\n",
    "# Para cada articulo calcular la demanda total (no valorizada) por mes\n",
    "df_agrupado_mes = df.groupby([\"article\", \"month\"])[\"Quantity\"].sum().reset_index()\n",
    "\n",
    "print(df_agrupado_mes.head())\n",
    "\n",
    "# guardar\n",
    "df_agrupado_mes.to_csv(\"../data/Bakery sales processed by month.csv\", index=False)\n",
    "\n"
   ]
  },
  {
   "cell_type": "code",
   "execution_count": 8,
   "metadata": {},
   "outputs": [
    {
     "name": "stdout",
     "output_type": "stream",
     "text": [
      "      article month  Quantity\n",
      "0  12 MACARON    01       0.0\n",
      "1  12 MACARON    02       0.0\n",
      "2  12 MACARON    03       0.0\n",
      "3  12 MACARON    04       0.0\n",
      "4  12 MACARON    05       0.0\n"
     ]
    },
    {
     "name": "stderr",
     "output_type": "stream",
     "text": [
      "/tmp/ipykernel_50858/722107916.py:2: FutureWarning: The previous implementation of stack is deprecated and will be removed in a future version of pandas. See the What's New notes for pandas 2.1.0 for details. Specify future_stack=True to adopt the new implementation and silence this warning.\n",
      "  df_agrupado_mes = df_agrupado_mes.set_index([\"article\", \"month\"]).unstack().fillna(0).stack().reset_index()\n"
     ]
    }
   ],
   "source": [
    "# Rellenar los meses que faltan a cada articulo con 0\n",
    "df_agrupado_mes = df_agrupado_mes.set_index([\"article\", \"month\"]).unstack().fillna(0).stack().reset_index()\n",
    "\n",
    "print(df_agrupado_mes.head())\n",
    "\n",
    "# guardar\n",
    "df_agrupado_mes.to_csv(\"../data/Bakery sales processed by month filled.csv\", index=False)"
   ]
  },
  {
   "cell_type": "code",
   "execution_count": 9,
   "metadata": {},
   "outputs": [
    {
     "name": "stdout",
     "output_type": "stream",
     "text": [
      "month         article      01      02      03      04      05      06      07  \\\n",
      "0          12 MACARON     0.0     0.0     0.0     0.0     0.0     0.0    14.0   \n",
      "1          ARMORICAIN     0.0     0.0     0.0     0.0     0.0     0.0     3.0   \n",
      "2         ARTICLE 295     0.0     0.0     0.0     0.0     0.0     0.0     0.0   \n",
      "3            BAGUETTE  1358.0  1556.0  1657.0  1922.0  2179.0  2075.0  3337.0   \n",
      "4      BAGUETTE APERO     5.0     8.0     8.0     7.0     3.0     6.0     2.0   \n",
      "\n",
      "month      08      09     10     11     12  \n",
      "0        47.0     9.0    0.0    0.0    0.0  \n",
      "1         0.0     0.0    0.0    0.0    0.0  \n",
      "2         0.0     0.0    0.0    1.0    0.0  \n",
      "3      3546.0  1861.0  983.0  824.0  755.0  \n",
      "4         3.0     6.0    2.0    7.0    5.0  \n"
     ]
    }
   ],
   "source": [
    "# Siguiendo con el analisis XYZ, en un nuevo datafreme pone los meses como columnas y los articulos como filas\n",
    "df_pivot = df_agrupado_mes.pivot(index=\"article\", columns=\"month\", values=\"Quantity\").reset_index()\n",
    "\n",
    "print(df_pivot.head())"
   ]
  },
  {
   "cell_type": "code",
   "execution_count": 10,
   "metadata": {},
   "outputs": [
    {
     "name": "stdout",
     "output_type": "stream",
     "text": [
      "month         article      01      02      03      04      05      06      07  \\\n",
      "0          12 MACARON     0.0     0.0     0.0     0.0     0.0     0.0    14.0   \n",
      "1          ARMORICAIN     0.0     0.0     0.0     0.0     0.0     0.0     3.0   \n",
      "2         ARTICLE 295     0.0     0.0     0.0     0.0     0.0     0.0     0.0   \n",
      "3            BAGUETTE  1358.0  1556.0  1657.0  1922.0  2179.0  2075.0  3337.0   \n",
      "4      BAGUETTE APERO     5.0     8.0     8.0     7.0     3.0     6.0     2.0   \n",
      "\n",
      "month      08      09     10     11     12         mean         std  \n",
      "0        47.0     9.0    0.0    0.0    0.0     5.833333   13.158225  \n",
      "1         0.0     0.0    0.0    0.0    0.0     0.250000    0.829156  \n",
      "2         0.0     0.0    0.0    1.0    0.0     0.083333    0.276385  \n",
      "3      3546.0  1861.0  983.0  824.0  755.0  1837.750000  847.500946  \n",
      "4         3.0     6.0    2.0    7.0    5.0     5.166667    2.114763  \n"
     ]
    }
   ],
   "source": [
    "# Calcula el promedio de la demanda por articulo y la desviacion estandar\n",
    "df_pivot[\"mean\"] = df_pivot.iloc[:, 1:].mean(axis=1)\n",
    "\n",
    "df_pivot[\"std\"] = df_pivot.iloc[:, 1:].std(axis=1)\n",
    "\n",
    "print(df_pivot.head())\n",
    "\n",
    "# guardar\n",
    "df_pivot.to_csv(\"../data/Bakery sales std.csv\", index=False)"
   ]
  },
  {
   "cell_type": "code",
   "execution_count": 11,
   "metadata": {},
   "outputs": [
    {
     "name": "stdout",
     "output_type": "stream",
     "text": [
      "month         article      01      02      03      04      05      06      07  \\\n",
      "0          12 MACARON     0.0     0.0     0.0     0.0     0.0     0.0    14.0   \n",
      "1          ARMORICAIN     0.0     0.0     0.0     0.0     0.0     0.0     3.0   \n",
      "2         ARTICLE 295     0.0     0.0     0.0     0.0     0.0     0.0     0.0   \n",
      "3            BAGUETTE  1358.0  1556.0  1657.0  1922.0  2179.0  2075.0  3337.0   \n",
      "4      BAGUETTE APERO     5.0     8.0     8.0     7.0     3.0     6.0     2.0   \n",
      "\n",
      "month      08      09     10     11     12         mean         std XYZ  \n",
      "0        47.0     9.0    0.0    0.0    0.0     5.833333   13.158225   Y  \n",
      "1         0.0     0.0    0.0    0.0    0.0     0.250000    0.829156   X  \n",
      "2         0.0     0.0    0.0    1.0    0.0     0.083333    0.276385   X  \n",
      "3      3546.0  1861.0  983.0  824.0  755.0  1837.750000  847.500946   Z  \n",
      "4         3.0     6.0    2.0    7.0    5.0     5.166667    2.114763   X  \n"
     ]
    }
   ],
   "source": [
    "# Asignar XYZ =SI(H3<=10%;\"X\";SI(H3<=25%;\"Y\";SI(H3>=25%;\"Z\")))\n",
    "def asignar_xyz(valor):\n",
    "    if valor <= 10:\n",
    "        return 'X'\n",
    "    elif valor <= 25:\n",
    "        return 'Y'\n",
    "    else:\n",
    "        return 'Z'\n",
    "    \n",
    "df_pivot[\"XYZ\"] = df_pivot[\"std\"].apply(asignar_xyz)\n",
    "\n",
    "print(df_pivot.head())\n",
    "\n",
    "# guardar\n",
    "df_pivot.to_csv(\"../data/Bakery sales XYZ.csv\", index=False)"
   ]
  },
  {
   "cell_type": "code",
   "execution_count": 12,
   "metadata": {},
   "outputs": [
    {
     "name": "stdout",
     "output_type": "stream",
     "text": [
      "  XYZ  count\n",
      "0   Z     61\n",
      "1   X     57\n",
      "2   Y     30\n"
     ]
    }
   ],
   "source": [
    "# contar cuantos articulos hay de cada tipo\n",
    "df_xyz = df_pivot[\"XYZ\"].value_counts().reset_index()\n",
    "\n",
    "print(df_xyz)"
   ]
  },
  {
   "cell_type": "code",
   "execution_count": 17,
   "metadata": {},
   "outputs": [
    {
     "name": "stdout",
     "output_type": "stream",
     "text": [
      "                article  DemandaValorizada  DemandaValorizadaPorcentual  \\\n",
      "0  TRADITIONAL BAGUETTE          144756.05                    25.912185   \n",
      "1  TRADITIONAL BAGUETTE          144756.05                    25.912185   \n",
      "2  TRADITIONAL BAGUETTE          144756.05                    25.912185   \n",
      "3  TRADITIONAL BAGUETTE          144756.05                    25.912185   \n",
      "4  TRADITIONAL BAGUETTE          144756.05                    25.912185   \n",
      "\n",
      "   DemandaValorizadaPorcentualAcumulada Tipo day  Quantity  \n",
      "0                             25.912185    A  01    3355.0  \n",
      "1                             25.912185    A  02    3501.0  \n",
      "2                             25.912185    A  03    3700.0  \n",
      "3                             25.912185    A  04    3797.0  \n",
      "4                             25.912185    A  05    3824.0  \n"
     ]
    },
    {
     "data": {
      "text/plain": [
       "'\\n                article  DemandaValorizada  DemandaValorizadaPorcentual  0  TRADITIONAL BAGUETTE          144756.05                    25.912185   \\n1  TRADITIONAL BAGUETTE          144756.05                    25.912185   \\n2  TRADITIONAL BAGUETTE          144756.05                    25.912185   \\n3  TRADITIONAL BAGUETTE          144756.05                    25.912185   \\n4  TRADITIONAL BAGUETTE          144756.05                    25.912185   \\n\\n   DemandaValorizadaPorcentualAcumulada Tipo day  Quantity  \\n0                             25.912185    A  01    3355.0  \\n1                             25.912185    A  02    3501.0  \\n2                             25.912185    A  03    3700.0  \\n3                             25.912185    A  04    3797.0  \\n4                             25.912185    A  05    3824.0  \\n                article  DemandaValorizada  DemandaValorizadaPorcentual  0  TRADITIONAL BAGUETTE          144756.05                    25.912185   \\n1  TRADITIONAL BAGUETTE          144756.05                    25.912185   \\n2  TRADITIONAL BAGUETTE          144756.05                    25.912185   \\n3  TRADITIONAL BAGUETTE          144756.05                    25.912185   \\n4  TRADITIONAL BAGUETTE          144756.05                    25.912185   \\n\\n   DemandaValorizadaPorcentualAcumulada Tipo  week  Quantity  \\n0                             25.912185    A     1    1263.0  \\n1                             25.912185    A     2    1151.0  \\n2                             25.912185    A     3    1194.0  \\n3                             25.912185    A     4    1126.0  \\n4                             25.912185    A     5    1274.0  \\n'"
      ]
     },
     "execution_count": 17,
     "metadata": {},
     "output_type": "execute_result"
    }
   ],
   "source": [
    "# Graficar las series de tiempo de los productos de la clase A\n",
    "# agrupar por dia (si hay muchos 0 estamos complicados y se hace por semana para esos)\n",
    "# calcular la nueva columna \"day\" y \"week\"\n",
    "df[\"day\"] = df[\"date\"].str.split(\"-\").str[2]\n",
    "df[\"week\"] = pd.to_datetime(df[\"date\"]).dt.isocalendar().week\n",
    "\n",
    "# calcular la demanda total por dia\n",
    "df_agrupado_dia = df.groupby([\"article\", \"day\"])[\"Quantity\"].sum().reset_index()\n",
    "\n",
    "\n",
    "# filtrar los productos de la clase A, columa Tipo de df_agrupado\n",
    "df_clase_A = df_agrupado[df_agrupado[\"Tipo\"] == \"A\"]\n",
    "\n",
    "# unir los productos de la clase A con la demanda por dia\n",
    "df_clase_A_dia = pd.merge(df_clase_A, df_agrupado_dia, on=\"article\")\n",
    "\n",
    "print(df_clase_A_dia.head())\n",
    "\n",
    "\"\"\"\n",
    "                article  DemandaValorizada  DemandaValorizadaPorcentual  \\\n",
    "0  TRADITIONAL BAGUETTE          144756.05                    25.912185   \n",
    "1  TRADITIONAL BAGUETTE          144756.05                    25.912185   \n",
    "2  TRADITIONAL BAGUETTE          144756.05                    25.912185   \n",
    "3  TRADITIONAL BAGUETTE          144756.05                    25.912185   \n",
    "4  TRADITIONAL BAGUETTE          144756.05                    25.912185   \n",
    "\n",
    "   DemandaValorizadaPorcentualAcumulada Tipo day  Quantity  \n",
    "0                             25.912185    A  01    3355.0  \n",
    "1                             25.912185    A  02    3501.0  \n",
    "2                             25.912185    A  03    3700.0  \n",
    "3                             25.912185    A  04    3797.0  \n",
    "4                             25.912185    A  05    3824.0  \n",
    "\"\"\"\n",
    "\n",
    "\n"
   ]
  }
 ],
 "metadata": {
  "kernelspec": {
   "display_name": "Python 3",
   "language": "python",
   "name": "python3"
  },
  "language_info": {
   "codemirror_mode": {
    "name": "ipython",
    "version": 3
   },
   "file_extension": ".py",
   "mimetype": "text/x-python",
   "name": "python",
   "nbconvert_exporter": "python",
   "pygments_lexer": "ipython3",
   "version": "3.12.1"
  }
 },
 "nbformat": 4,
 "nbformat_minor": 2
}
